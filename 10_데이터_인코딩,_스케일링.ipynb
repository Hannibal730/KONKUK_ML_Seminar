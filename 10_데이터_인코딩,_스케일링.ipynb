{
  "nbformat": 4,
  "nbformat_minor": 0,
  "metadata": {
    "colab": {
      "provenance": []
    },
    "kernelspec": {
      "name": "python3",
      "display_name": "Python 3"
    },
    "language_info": {
      "name": "python"
    }
  },
  "cells": [
    {
      "cell_type": "markdown",
      "source": [
        "# 1. 인코딩의 종류\n",
        "\n",
        "1.Label Encoding ->\n",
        "전세(0)            \n",
        "월세(1)     \n",
        "자가(2)     \n",
        "단점 : 전세, 월세, 자가가 우열이 있는 데이터는 아니지만, 우열이 있는      것처럼 보이게 함/ 월세 + 월세 = 자가 계산할 수 있을 것 처럼 보이게 함.\n",
        "-> 크다, 작다, 보통이다.     \n",
        "\n",
        "2.One-hot encoding ->\n",
        "전세 (1 0 0)     \n",
        "월세 (0 1 0)     \n",
        "자가 (0 0 1)     \n",
        "데이터의 수만큼 0으로 표시, 해당되는 자리에만 1을 표기     \n",
        "-> 변환된 데이터 사이에 우열이 없다.      \n",
        "-> 열이 끊임없이 길어진다(차원이 늘어남)      \n",
        "\n",
        "3.Binary encoding ->\n",
        "전세(0) -> (0 0)     \n",
        "월세(1) -> (0 1)     \n",
        "자가(2) -> (1 0)     \n",
        "-> 라벨인코딩과 원핫인코딩의 중간정도 되는 방식     \n",
        "-> 원핫으로 하면 차원이 너무 늘어나는데, 고유의 특성을 지키고 싶을 때\n",
        "\n",
        "4.frequency encoding ->\n",
        "데이터 출현 범주에 따라 변환한다.\n",
        "\n"
      ],
      "metadata": {
        "id": "LI6R5vEXGWcL"
      }
    },
    {
      "cell_type": "code",
      "execution_count": 1,
      "metadata": {
        "colab": {
          "base_uri": "https://localhost:8080/"
        },
        "id": "K6TFeviaEsca",
        "outputId": "16bf2d41-93eb-4bd6-8c65-74ab49a21f39"
      },
      "outputs": [
        {
          "output_type": "stream",
          "name": "stdout",
          "text": [
            "  Color\n",
            "0     R\n",
            "1     G\n",
            "2     B\n",
            "3     G\n",
            "4     B\n",
            "5     R\n",
            "6     R\n"
          ]
        }
      ],
      "source": [
        "import pandas as pd\n",
        "\n",
        "data = {'Color':['R', 'G', 'B', 'G', 'B', 'R', 'R']}\n",
        "df = pd.DataFrame(data)\n",
        "print(df)"
      ]
    },
    {
      "cell_type": "code",
      "source": [
        "#라벨인코딩\n",
        "from sklearn.preprocessing import LabelEncoder\n",
        "#원핫 인코딩\n",
        "from sklearn.preprocessing import OneHotEncoder\n",
        "#바이너리 인코딩\n",
        "import category_encoders as ce"
      ],
      "metadata": {
        "id": "oA1CXDKBGZ5J"
      },
      "execution_count": 2,
      "outputs": []
    },
    {
      "cell_type": "code",
      "source": [
        "!pip install category_encoders"
      ],
      "metadata": {
        "colab": {
          "base_uri": "https://localhost:8080/"
        },
        "id": "5pNATwgMGdda",
        "outputId": "b6a834d8-4756-484a-9d44-d985dce93346"
      },
      "execution_count": 3,
      "outputs": [
        {
          "output_type": "stream",
          "name": "stdout",
          "text": [
            "Collecting category_encoders\n",
            "  Downloading category_encoders-2.6.3-py2.py3-none-any.whl.metadata (8.0 kB)\n",
            "Requirement already satisfied: numpy>=1.14.0 in /usr/local/lib/python3.10/dist-packages (from category_encoders) (1.26.4)\n",
            "Requirement already satisfied: scikit-learn>=0.20.0 in /usr/local/lib/python3.10/dist-packages (from category_encoders) (1.5.2)\n",
            "Requirement already satisfied: scipy>=1.0.0 in /usr/local/lib/python3.10/dist-packages (from category_encoders) (1.13.1)\n",
            "Requirement already satisfied: statsmodels>=0.9.0 in /usr/local/lib/python3.10/dist-packages (from category_encoders) (0.14.3)\n",
            "Requirement already satisfied: pandas>=1.0.5 in /usr/local/lib/python3.10/dist-packages (from category_encoders) (2.1.4)\n",
            "Requirement already satisfied: patsy>=0.5.1 in /usr/local/lib/python3.10/dist-packages (from category_encoders) (0.5.6)\n",
            "Requirement already satisfied: python-dateutil>=2.8.2 in /usr/local/lib/python3.10/dist-packages (from pandas>=1.0.5->category_encoders) (2.8.2)\n",
            "Requirement already satisfied: pytz>=2020.1 in /usr/local/lib/python3.10/dist-packages (from pandas>=1.0.5->category_encoders) (2024.2)\n",
            "Requirement already satisfied: tzdata>=2022.1 in /usr/local/lib/python3.10/dist-packages (from pandas>=1.0.5->category_encoders) (2024.1)\n",
            "Requirement already satisfied: six in /usr/local/lib/python3.10/dist-packages (from patsy>=0.5.1->category_encoders) (1.16.0)\n",
            "Requirement already satisfied: joblib>=1.2.0 in /usr/local/lib/python3.10/dist-packages (from scikit-learn>=0.20.0->category_encoders) (1.4.2)\n",
            "Requirement already satisfied: threadpoolctl>=3.1.0 in /usr/local/lib/python3.10/dist-packages (from scikit-learn>=0.20.0->category_encoders) (3.5.0)\n",
            "Requirement already satisfied: packaging>=21.3 in /usr/local/lib/python3.10/dist-packages (from statsmodels>=0.9.0->category_encoders) (24.1)\n",
            "Downloading category_encoders-2.6.3-py2.py3-none-any.whl (81 kB)\n",
            "\u001b[2K   \u001b[90m━━━━━━━━━━━━━━━━━━━━━━━━━━━━━━━━━━━━━━━━\u001b[0m \u001b[32m81.9/81.9 kB\u001b[0m \u001b[31m2.6 MB/s\u001b[0m eta \u001b[36m0:00:00\u001b[0m\n",
            "\u001b[?25hInstalling collected packages: category_encoders\n",
            "Successfully installed category_encoders-2.6.3\n"
          ]
        }
      ]
    },
    {
      "cell_type": "markdown",
      "source": [
        "# 라벨 인코딩"
      ],
      "metadata": {
        "id": "-u0PXTh5HKEE"
      }
    },
    {
      "cell_type": "code",
      "source": [
        "label_encoder = LabelEncoder()\n",
        "df['Color_label'] = label_encoder.fit_transform(df['Color'])\n",
        "print(df)"
      ],
      "metadata": {
        "colab": {
          "base_uri": "https://localhost:8080/"
        },
        "id": "bpEWF1O6Gk7W",
        "outputId": "e10ee670-73e0-4d62-9d9d-42e01a64b63f"
      },
      "execution_count": 5,
      "outputs": [
        {
          "output_type": "stream",
          "name": "stdout",
          "text": [
            "  Color  Color_label\n",
            "0     R            2\n",
            "1     G            1\n",
            "2     B            0\n",
            "3     G            1\n",
            "4     B            0\n",
            "5     R            2\n",
            "6     R            2\n"
          ]
        }
      ]
    },
    {
      "cell_type": "markdown",
      "source": [
        "# 원 핫 인코딩"
      ],
      "metadata": {
        "id": "bzHzgfiZHL1A"
      }
    },
    {
      "cell_type": "code",
      "source": [
        "onehot_encoder = OneHotEncoder(sparse_output=False)\n",
        "result = onehot_encoder.fit_transform(df[['Color']])\n",
        "\n",
        "print(result)"
      ],
      "metadata": {
        "colab": {
          "base_uri": "https://localhost:8080/"
        },
        "id": "PULQoeFHGrnP",
        "outputId": "e1517803-2cca-4071-b302-f97abe3c5b2c"
      },
      "execution_count": 6,
      "outputs": [
        {
          "output_type": "stream",
          "name": "stdout",
          "text": [
            "[[0. 0. 1.]\n",
            " [0. 1. 0.]\n",
            " [1. 0. 0.]\n",
            " [0. 1. 0.]\n",
            " [1. 0. 0.]\n",
            " [0. 0. 1.]\n",
            " [0. 0. 1.]]\n"
          ]
        }
      ]
    },
    {
      "cell_type": "code",
      "source": [
        "onehot = pd.DataFrame(result, columns=onehot_encoder.get_feature_names_out(['Color']))\n",
        "print(onehot)"
      ],
      "metadata": {
        "colab": {
          "base_uri": "https://localhost:8080/"
        },
        "id": "iCzs3i_hGtOS",
        "outputId": "0fb96fa7-45b1-476b-86c0-391fd5d075fd"
      },
      "execution_count": 7,
      "outputs": [
        {
          "output_type": "stream",
          "name": "stdout",
          "text": [
            "   Color_B  Color_G  Color_R\n",
            "0      0.0      0.0      1.0\n",
            "1      0.0      1.0      0.0\n",
            "2      1.0      0.0      0.0\n",
            "3      0.0      1.0      0.0\n",
            "4      1.0      0.0      0.0\n",
            "5      0.0      0.0      1.0\n",
            "6      0.0      0.0      1.0\n"
          ]
        }
      ]
    },
    {
      "cell_type": "markdown",
      "source": [
        "# 바이너리 인코딩"
      ],
      "metadata": {
        "id": "r7s4VNDtHBQq"
      }
    },
    {
      "cell_type": "code",
      "source": [
        "binary_encoder = ce.BinaryEncoder(cols=['Color'])\n",
        "result_b = binary_encoder.fit_transform(df['Color'])\n",
        "print(result_b)"
      ],
      "metadata": {
        "colab": {
          "base_uri": "https://localhost:8080/"
        },
        "id": "Gpwcx1ehHAEm",
        "outputId": "db07dfa9-11ad-43ba-ea1c-f5b356efebec"
      },
      "execution_count": 8,
      "outputs": [
        {
          "output_type": "stream",
          "name": "stdout",
          "text": [
            "   Color_0  Color_1\n",
            "0        0        1\n",
            "1        1        0\n",
            "2        1        1\n",
            "3        1        0\n",
            "4        1        1\n",
            "5        0        1\n",
            "6        0        1\n"
          ]
        }
      ]
    },
    {
      "cell_type": "markdown",
      "source": [
        "# 빈도 인코딩"
      ],
      "metadata": {
        "id": "JG6fkmbWHUaa"
      }
    },
    {
      "cell_type": "code",
      "source": [
        "frequency_encoded = df['Color'].value_counts()\n",
        "df['Color_F'] = df['Color'].map(frequency_encoded)\n",
        "print(df)"
      ],
      "metadata": {
        "colab": {
          "base_uri": "https://localhost:8080/"
        },
        "id": "ISOZ1VcRHWn9",
        "outputId": "0ac9ec8b-1e5c-4902-ffaa-f0267ccbfbdb"
      },
      "execution_count": 9,
      "outputs": [
        {
          "output_type": "stream",
          "name": "stdout",
          "text": [
            "  Color  Color_label  Color_F\n",
            "0     R            2        3\n",
            "1     G            1        2\n",
            "2     B            0        2\n",
            "3     G            1        2\n",
            "4     B            0        2\n",
            "5     R            2        3\n",
            "6     R            2        3\n"
          ]
        }
      ]
    },
    {
      "cell_type": "code",
      "source": [
        "frequency_encoded = df['Color'].value_counts(normalize=True)\n",
        "df['Color_Fn'] = df['Color'].map(frequency_encoded)\n",
        "print(df)"
      ],
      "metadata": {
        "colab": {
          "base_uri": "https://localhost:8080/"
        },
        "id": "5rqhtWEMHbIQ",
        "outputId": "97ba6e1d-8e48-44db-d4f9-45dedc439890"
      },
      "execution_count": 10,
      "outputs": [
        {
          "output_type": "stream",
          "name": "stdout",
          "text": [
            "  Color  Color_label  Color_F  Color_Fn\n",
            "0     R            2        3  0.428571\n",
            "1     G            1        2  0.285714\n",
            "2     B            0        2  0.285714\n",
            "3     G            1        2  0.285714\n",
            "4     B            0        2  0.285714\n",
            "5     R            2        3  0.428571\n",
            "6     R            2        3  0.428571\n"
          ]
        }
      ]
    },
    {
      "cell_type": "markdown",
      "source": [
        "# 스케일링\n",
        "  ## 데이터가 일정한 범위 안에서 포함되도록 정규화하는 과정\n",
        "1. min-max sclaer(최소-최대 변환) : 0~1사이로 변환\n",
        "2. standard scaler(표준 정규분포) : 평균0, 분산 1\n",
        "3. robust scaler(중앙값, 사분위수) :"
      ],
      "metadata": {
        "id": "0O3bEkyFH7i5"
      }
    },
    {
      "cell_type": "code",
      "source": [
        "from sklearn.preprocessing import StandardScaler\n",
        "from sklearn.preprocessing import MinMaxScaler\n",
        "from sklearn.preprocessing import RobustScaler\n",
        "\n",
        "data = [[0, 0], [0, 0], [1, 1], [1, 1]]"
      ],
      "metadata": {
        "id": "XgR4T9eXH-Jd"
      },
      "execution_count": 11,
      "outputs": []
    },
    {
      "cell_type": "code",
      "source": [
        "Sscaler = StandardScaler()\n",
        "print(Sscaler.fit_transform(data))\n",
        "\n",
        "Mscaler = MinMaxScaler()\n",
        "print(Mscaler.fit_transform(data))\n",
        "\n",
        "Rscaler = RobustScaler()\n",
        "print(Rscaler.fit_transform(data))"
      ],
      "metadata": {
        "colab": {
          "base_uri": "https://localhost:8080/"
        },
        "id": "wgvATFKZIDAs",
        "outputId": "288dfa55-4bf9-4700-c58a-bf8f5452dc2e"
      },
      "execution_count": 12,
      "outputs": [
        {
          "output_type": "stream",
          "name": "stdout",
          "text": [
            "[[-1. -1.]\n",
            " [-1. -1.]\n",
            " [ 1.  1.]\n",
            " [ 1.  1.]]\n",
            "[[0. 0.]\n",
            " [0. 0.]\n",
            " [1. 1.]\n",
            " [1. 1.]]\n",
            "[[-0.5 -0.5]\n",
            " [-0.5 -0.5]\n",
            " [ 0.5  0.5]\n",
            " [ 0.5  0.5]]\n"
          ]
        }
      ]
    }
  ]
}